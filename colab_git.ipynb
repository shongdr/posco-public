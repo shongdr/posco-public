{
  "nbformat": 4,
  "nbformat_minor": 0,
  "metadata": {
    "colab": {
      "provenance": [],
      "toc_visible": true,
      "authorship_tag": "ABX9TyNJqO/8d+DpQe6xsCIPcC6y",
      "include_colab_link": true
    },
    "kernelspec": {
      "name": "python3",
      "display_name": "Python 3"
    },
    "language_info": {
      "name": "python"
    }
  },
  "cells": [
    {
      "cell_type": "markdown",
      "metadata": {
        "id": "view-in-github",
        "colab_type": "text"
      },
      "source": [
        "<a href=\"https://colab.research.google.com/github/shongdr/posco-public/blob/main/colab_git.ipynb\" target=\"_parent\"><img src=\"https://colab.research.google.com/assets/colab-badge.svg\" alt=\"Open In Colab\"/></a>"
      ]
    },
    {
      "cell_type": "code",
      "execution_count": 1,
      "metadata": {
        "id": "wanFC8MIQqvI"
      },
      "outputs": [],
      "source": [
        "d = 1+6"
      ]
    },
    {
      "cell_type": "code",
      "source": [
        "d"
      ],
      "metadata": {
        "colab": {
          "base_uri": "https://localhost:8080/"
        },
        "id": "YFYv45XoSvCz",
        "outputId": "d5b6c369-1401-46ae-b168-4b4f9cf9f16b"
      },
      "execution_count": 2,
      "outputs": [
        {
          "output_type": "execute_result",
          "data": {
            "text/plain": [
              "7"
            ]
          },
          "metadata": {},
          "execution_count": 2
        }
      ]
    },
    {
      "cell_type": "code",
      "source": [],
      "metadata": {
        "id": "BFAa8HlKUdob"
      },
      "execution_count": null,
      "outputs": []
    },
    {
      "cell_type": "markdown",
      "source": [
        "# lec 2\n",
        "## leclec 2\n"
      ],
      "metadata": {
        "id": "LHUJzN7aUfkT"
      }
    },
    {
      "cell_type": "markdown",
      "source": [
        "# lecleclec\n",
        "\n",
        "hi"
      ],
      "metadata": {
        "id": "FAypM7DsVCAC"
      }
    },
    {
      "cell_type": "code",
      "source": [],
      "metadata": {
        "id": "tMbNJOHyVPEz"
      },
      "execution_count": null,
      "outputs": []
    },
    {
      "cell_type": "markdown",
      "source": [
        "ipynb   py  "
      ],
      "metadata": {
        "id": "eU8U8vsaSbjd"
      }
    },
    {
      "cell_type": "code",
      "source": [],
      "metadata": {
        "id": "nSzXlJ6DShAr"
      },
      "execution_count": null,
      "outputs": []
    }
  ]
}